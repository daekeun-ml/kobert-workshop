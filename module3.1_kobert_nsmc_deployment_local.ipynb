{
 "cells": [
  {
   "cell_type": "markdown",
   "metadata": {},
   "source": [
    "# Deploying fine-tuned model to SageMaker Endpoint to perform Inference (Local Mode)\n",
    "---\n"
   ]
  },
  {
   "cell_type": "markdown",
   "metadata": {},
   "source": [
    "### Inference\n",
    "\n",
    "Using local mode, you can easily verify that your inference code is working before deploying to the SageMaker endpoint. You do not have to wait for a separate EC2 instance to be provisioned when calling estimator."
   ]
  },
  {
   "cell_type": "code",
   "execution_count": 1,
   "metadata": {},
   "outputs": [],
   "source": [
    "import sagemaker\n",
    "from sagemaker.mxnet.model import MXNetModel\n",
    "from sagemaker import get_execution_role\n",
    "\n",
    "sagemaker_session = sagemaker.Session()\n",
    "role = get_execution_role()\n",
    "#model_data = 's3://<YOUR BUCKET>/<YOUR MODEL PATH>/model.tar.gz'\n",
    "model_data = 's3://sagemaker-us-east-1-143656149352/mxnet-training-2020-05-19-01-08-59-727/output/model.tar.gz'\n",
    "\n",
    "mxnet_model = MXNetModel(model_data=model_data,\n",
    "                         role=role,\n",
    "                         entry_point='inference.py',\n",
    "                         source_dir = './src',\n",
    "                         py_version='py3',\n",
    "                         framework_version='1.6.0'\n",
    "                        )"
   ]
  },
  {
   "cell_type": "code",
   "execution_count": 2,
   "metadata": {},
   "outputs": [
    {
     "name": "stdout",
     "output_type": "stream",
     "text": [
      "Attaching to tmppmnd454m_algo-1-4z4hp_1\n",
      "\u001b[36malgo-1-4z4hp_1  |\u001b[0m Collecting git+https://****@github.com/SKTBrain/KoBERT.git@master (from -r /opt/ml/model/code/requirements.txt (line 5))\n",
      "\u001b[36malgo-1-4z4hp_1  |\u001b[0m   Cloning https://****@github.com/SKTBrain/KoBERT.git (to revision master) to /home/model-server/tmp/pip-req-build-m1b9hftq\n",
      "\u001b[36malgo-1-4z4hp_1  |\u001b[0m   Running command git clone -q 'https://****@github.com/SKTBrain/KoBERT.git' /home/model-server/tmp/pip-req-build-m1b9hftq\n",
      "\u001b[36malgo-1-4z4hp_1  |\u001b[0m Requirement already satisfied: gluonnlp in /usr/local/lib/python3.6/site-packages (from -r /opt/ml/model/code/requirements.txt (line 1)) (0.9.0)\n",
      "\u001b[36malgo-1-4z4hp_1  |\u001b[0m Collecting sentencepiece\n",
      "\u001b[36malgo-1-4z4hp_1  |\u001b[0m   Downloading sentencepiece-0.1.91-cp36-cp36m-manylinux1_x86_64.whl (1.1 MB)\n",
      "\u001b[K     |████████████████████████████████| 1.1 MB 14.1 MB/s eta 0:00:01\n",
      "\u001b[36malgo-1-4z4hp_1  |\u001b[0m \u001b[?25hCollecting onnxruntime\n",
      "\u001b[36malgo-1-4z4hp_1  |\u001b[0m   Downloading onnxruntime-1.3.0-cp36-cp36m-manylinux1_x86_64.whl (3.9 MB)\n",
      "\u001b[K     |████████████████████████████████| 3.9 MB 40.4 MB/s eta 0:00:01\n",
      "\u001b[36malgo-1-4z4hp_1  |\u001b[0m \u001b[?25hCollecting transformers\n",
      "\u001b[36malgo-1-4z4hp_1  |\u001b[0m   Downloading transformers-2.10.0-py3-none-any.whl (660 kB)\n",
      "\u001b[K     |████████████████████████████████| 660 kB 55.9 MB/s eta 0:00:01\n",
      "\u001b[36malgo-1-4z4hp_1  |\u001b[0m \u001b[?25hRequirement already satisfied: numpy>=1.16.0 in /usr/local/lib/python3.6/site-packages (from gluonnlp->-r /opt/ml/model/code/requirements.txt (line 1)) (1.17.4)\n",
      "\u001b[36malgo-1-4z4hp_1  |\u001b[0m Requirement already satisfied: cython in /usr/local/lib/python3.6/site-packages (from gluonnlp->-r /opt/ml/model/code/requirements.txt (line 1)) (0.29.16)\n",
      "\u001b[36malgo-1-4z4hp_1  |\u001b[0m Requirement already satisfied: packaging in /usr/local/lib/python3.6/site-packages (from gluonnlp->-r /opt/ml/model/code/requirements.txt (line 1)) (20.3)\n",
      "\u001b[36malgo-1-4z4hp_1  |\u001b[0m Requirement already satisfied: protobuf in /usr/local/lib/python3.6/site-packages (from onnxruntime->-r /opt/ml/model/code/requirements.txt (line 3)) (3.11.3)\n",
      "\u001b[36malgo-1-4z4hp_1  |\u001b[0m Requirement already satisfied: onnx>=1.2.3 in /usr/local/lib/python3.6/site-packages (from onnxruntime->-r /opt/ml/model/code/requirements.txt (line 3)) (1.4.1)\n",
      "\u001b[36malgo-1-4z4hp_1  |\u001b[0m Collecting filelock\n",
      "\u001b[36malgo-1-4z4hp_1  |\u001b[0m   Downloading filelock-3.0.12-py3-none-any.whl (7.6 kB)\n",
      "\u001b[36malgo-1-4z4hp_1  |\u001b[0m Collecting tokenizers==0.7.0\n",
      "\u001b[36malgo-1-4z4hp_1  |\u001b[0m   Downloading tokenizers-0.7.0-cp36-cp36m-manylinux1_x86_64.whl (3.8 MB)\n",
      "\u001b[K     |████████████████████████████████| 3.8 MB 60.0 MB/s eta 0:00:01\n",
      "\u001b[36malgo-1-4z4hp_1  |\u001b[0m \u001b[?25hCollecting dataclasses; python_version < \"3.7\"\n",
      "\u001b[36malgo-1-4z4hp_1  |\u001b[0m   Downloading dataclasses-0.7-py3-none-any.whl (18 kB)\n",
      "\u001b[36malgo-1-4z4hp_1  |\u001b[0m Collecting regex!=2019.12.17\n",
      "\u001b[36malgo-1-4z4hp_1  |\u001b[0m   Downloading regex-2020.5.14-cp36-cp36m-manylinux2010_x86_64.whl (675 kB)\n",
      "\u001b[K     |████████████████████████████████| 675 kB 52.9 MB/s eta 0:00:01\n",
      "\u001b[36malgo-1-4z4hp_1  |\u001b[0m \u001b[?25hRequirement already satisfied: tqdm>=4.27 in /usr/local/lib/python3.6/site-packages (from transformers->-r /opt/ml/model/code/requirements.txt (line 4)) (4.45.0)\n",
      "\u001b[36malgo-1-4z4hp_1  |\u001b[0m Collecting sacremoses\n",
      "\u001b[36malgo-1-4z4hp_1  |\u001b[0m   Downloading sacremoses-0.0.43.tar.gz (883 kB)\n",
      "\u001b[K     |████████████████████████████████| 883 kB 53.0 MB/s eta 0:00:01\n",
      "\u001b[36malgo-1-4z4hp_1  |\u001b[0m \u001b[?25hRequirement already satisfied: requests in /usr/local/lib/python3.6/site-packages (from transformers->-r /opt/ml/model/code/requirements.txt (line 4)) (2.23.0)\n",
      "\u001b[36malgo-1-4z4hp_1  |\u001b[0m Requirement already satisfied: pyparsing>=2.0.2 in /usr/local/lib/python3.6/site-packages (from packaging->gluonnlp->-r /opt/ml/model/code/requirements.txt (line 1)) (2.4.6)\n",
      "\u001b[36malgo-1-4z4hp_1  |\u001b[0m Requirement already satisfied: six in /usr/local/lib/python3.6/site-packages (from packaging->gluonnlp->-r /opt/ml/model/code/requirements.txt (line 1)) (1.14.0)\n",
      "\u001b[36malgo-1-4z4hp_1  |\u001b[0m Requirement already satisfied: setuptools in /usr/local/lib/python3.6/site-packages (from protobuf->onnxruntime->-r /opt/ml/model/code/requirements.txt (line 3)) (46.1.3)\n",
      "\u001b[36malgo-1-4z4hp_1  |\u001b[0m Requirement already satisfied: typing-extensions>=3.6.2.1 in /usr/local/lib/python3.6/site-packages (from onnx>=1.2.3->onnxruntime->-r /opt/ml/model/code/requirements.txt (line 3)) (3.7.4.2)\n",
      "\u001b[36malgo-1-4z4hp_1  |\u001b[0m Requirement already satisfied: typing>=3.6.4 in /usr/local/lib/python3.6/site-packages (from onnx>=1.2.3->onnxruntime->-r /opt/ml/model/code/requirements.txt (line 3)) (3.7.4.1)\n",
      "\u001b[36malgo-1-4z4hp_1  |\u001b[0m Collecting click\n",
      "\u001b[36malgo-1-4z4hp_1  |\u001b[0m   Downloading click-7.1.2-py2.py3-none-any.whl (82 kB)\n",
      "\u001b[K     |████████████████████████████████| 82 kB 2.1 MB/s  eta 0:00:01\n",
      "\u001b[36malgo-1-4z4hp_1  |\u001b[0m \u001b[?25hCollecting joblib\n",
      "\u001b[36malgo-1-4z4hp_1  |\u001b[0m   Downloading joblib-0.15.1-py3-none-any.whl (298 kB)\n",
      "\u001b[K     |████████████████████████████████| 298 kB 60.7 MB/s eta 0:00:01\n",
      "\u001b[36malgo-1-4z4hp_1  |\u001b[0m \u001b[?25hRequirement already satisfied: urllib3!=1.25.0,!=1.25.1,<1.26,>=1.21.1 in /usr/local/lib/python3.6/site-packages (from requests->transformers->-r /opt/ml/model/code/requirements.txt (line 4)) (1.25.8)\n",
      "\u001b[36malgo-1-4z4hp_1  |\u001b[0m Requirement already satisfied: chardet<4,>=3.0.2 in /usr/local/lib/python3.6/site-packages (from requests->transformers->-r /opt/ml/model/code/requirements.txt (line 4)) (3.0.4)\n",
      "\u001b[36malgo-1-4z4hp_1  |\u001b[0m Requirement already satisfied: certifi>=2017.4.17 in /usr/local/lib/python3.6/site-packages (from requests->transformers->-r /opt/ml/model/code/requirements.txt (line 4)) (2019.11.28)\n",
      "\u001b[36malgo-1-4z4hp_1  |\u001b[0m Requirement already satisfied: idna<3,>=2.5 in /usr/local/lib/python3.6/site-packages (from requests->transformers->-r /opt/ml/model/code/requirements.txt (line 4)) (2.9)\n",
      "\u001b[36malgo-1-4z4hp_1  |\u001b[0m Installing collected packages: sentencepiece, onnxruntime, filelock, tokenizers, dataclasses, regex, click, joblib, sacremoses, transformers, kobert\n",
      "\u001b[36malgo-1-4z4hp_1  |\u001b[0m     Running setup.py install for sacremoses ... \u001b[?25ldone\n",
      "\u001b[36malgo-1-4z4hp_1  |\u001b[0m \u001b[?25h    Running setup.py install for kobert ... \u001b[?25ldone\n",
      "\u001b[36malgo-1-4z4hp_1  |\u001b[0m \u001b[?25hSuccessfully installed click-7.1.2 dataclasses-0.7 filelock-3.0.12 joblib-0.15.1 kobert-0.1.1 onnxruntime-1.3.0 regex-2020.5.14 sacremoses-0.0.43 sentencepiece-0.1.91 tokenizers-0.7.0 transformers-2.10.0\n",
      "\u001b[36malgo-1-4z4hp_1  |\u001b[0m \u001b[33mWARNING: You are using pip version 20.0.2; however, version 20.1.1 is available.\n",
      "\u001b[36malgo-1-4z4hp_1  |\u001b[0m You should consider upgrading via the '/usr/local/bin/python -m pip install --upgrade pip' command.\u001b[0m\n",
      "\u001b[36malgo-1-4z4hp_1  |\u001b[0m 2020-05-28 11:51:03,825 [INFO ] main com.amazonaws.ml.mms.ModelServer - \n",
      "\u001b[36malgo-1-4z4hp_1  |\u001b[0m MMS Home: /usr/local/lib/python3.6/site-packages\n",
      "\u001b[36malgo-1-4z4hp_1  |\u001b[0m Current directory: /\n",
      "\u001b[36malgo-1-4z4hp_1  |\u001b[0m Temp directory: /home/model-server/tmp\n",
      "\u001b[36malgo-1-4z4hp_1  |\u001b[0m Number of GPUs: 4\n",
      "\u001b[36malgo-1-4z4hp_1  |\u001b[0m Number of CPUs: 32\n",
      "\u001b[36malgo-1-4z4hp_1  |\u001b[0m Max heap size: 27305 M\n",
      "\u001b[36malgo-1-4z4hp_1  |\u001b[0m Python executable: /usr/local/bin/python3.6\n",
      "\u001b[36malgo-1-4z4hp_1  |\u001b[0m Config file: /etc/sagemaker-mms.properties\n",
      "\u001b[36malgo-1-4z4hp_1  |\u001b[0m Inference address: http://0.0.0.0:8080\n",
      "\u001b[36malgo-1-4z4hp_1  |\u001b[0m Management address: http://0.0.0.0:8080\n",
      "\u001b[36malgo-1-4z4hp_1  |\u001b[0m Model Store: /.sagemaker/mms/models\n",
      "\u001b[36malgo-1-4z4hp_1  |\u001b[0m Initial Models: ALL\n",
      "\u001b[36malgo-1-4z4hp_1  |\u001b[0m Log dir: /logs\n",
      "\u001b[36malgo-1-4z4hp_1  |\u001b[0m Metrics dir: /logs\n",
      "\u001b[36malgo-1-4z4hp_1  |\u001b[0m Netty threads: 0\n",
      "\u001b[36malgo-1-4z4hp_1  |\u001b[0m Netty client threads: 0\n",
      "\u001b[36malgo-1-4z4hp_1  |\u001b[0m Default workers per model: 4\n",
      "\u001b[36malgo-1-4z4hp_1  |\u001b[0m Blacklist Regex: N/A\n",
      "\u001b[36malgo-1-4z4hp_1  |\u001b[0m Maximum Response Size: 6553500\n",
      "\u001b[36malgo-1-4z4hp_1  |\u001b[0m Maximum Request Size: 6553500\n",
      "\u001b[36malgo-1-4z4hp_1  |\u001b[0m 2020-05-28 11:51:03,881 [INFO ] main com.amazonaws.ml.mms.wlm.ModelManager - Model model loaded.\n",
      "\u001b[36malgo-1-4z4hp_1  |\u001b[0m 2020-05-28 11:51:03,898 [INFO ] main com.amazonaws.ml.mms.ModelServer - Initialize Inference server with: EpollServerSocketChannel.\n",
      "\u001b[36malgo-1-4z4hp_1  |\u001b[0m 2020-05-28 11:51:03,986 [INFO ] main com.amazonaws.ml.mms.ModelServer - Inference API bind to: http://0.0.0.0:8080\n",
      "\u001b[36malgo-1-4z4hp_1  |\u001b[0m Model server started.\n",
      "\u001b[36malgo-1-4z4hp_1  |\u001b[0m 2020-05-28 11:51:03,990 [WARN ] pool-2-thread-1 com.amazonaws.ml.mms.metrics.MetricCollector - worker pid is not available yet.\n"
     ]
    },
    {
     "name": "stdout",
     "output_type": "stream",
     "text": [
      "\u001b[36malgo-1-4z4hp_1  |\u001b[0m 2020-05-28 11:51:04,043 [INFO ] W-9003-model-stdout com.amazonaws.ml.mms.wlm.WorkerLifeCycle - Listening on port: /home/model-server/tmp/.mms.sock.9003\n",
      "\u001b[36malgo-1-4z4hp_1  |\u001b[0m 2020-05-28 11:51:04,043 [INFO ] W-9003-model-stdout com.amazonaws.ml.mms.wlm.WorkerLifeCycle - [PID]173\n",
      "\u001b[36malgo-1-4z4hp_1  |\u001b[0m 2020-05-28 11:51:04,043 [INFO ] W-9003-model-stdout com.amazonaws.ml.mms.wlm.WorkerLifeCycle - MXNet worker started.\n",
      "\u001b[36malgo-1-4z4hp_1  |\u001b[0m 2020-05-28 11:51:04,044 [INFO ] W-9003-model-stdout com.amazonaws.ml.mms.wlm.WorkerLifeCycle - Python runtime: 3.6.8\n",
      "\u001b[36malgo-1-4z4hp_1  |\u001b[0m 2020-05-28 11:51:04,044 [INFO ] W-9000-model-stdout com.amazonaws.ml.mms.wlm.WorkerLifeCycle - Listening on port: /home/model-server/tmp/.mms.sock.9000\n",
      "\u001b[36malgo-1-4z4hp_1  |\u001b[0m 2020-05-28 11:51:04,044 [INFO ] W-9002-model-stdout com.amazonaws.ml.mms.wlm.WorkerLifeCycle - Listening on port: /home/model-server/tmp/.mms.sock.9002\n",
      "\u001b[36malgo-1-4z4hp_1  |\u001b[0m 2020-05-28 11:51:04,044 [INFO ] W-9000-model-stdout com.amazonaws.ml.mms.wlm.WorkerLifeCycle - [PID]171\n",
      "\u001b[36malgo-1-4z4hp_1  |\u001b[0m 2020-05-28 11:51:04,045 [INFO ] W-9000-model-stdout com.amazonaws.ml.mms.wlm.WorkerLifeCycle - MXNet worker started.\n",
      "\u001b[36malgo-1-4z4hp_1  |\u001b[0m 2020-05-28 11:51:04,045 [INFO ] W-9002-model-stdout com.amazonaws.ml.mms.wlm.WorkerLifeCycle - [PID]170\n",
      "\u001b[36malgo-1-4z4hp_1  |\u001b[0m 2020-05-28 11:51:04,045 [INFO ] W-9002-model-stdout com.amazonaws.ml.mms.wlm.WorkerLifeCycle - MXNet worker started.\n",
      "\u001b[36malgo-1-4z4hp_1  |\u001b[0m 2020-05-28 11:51:04,045 [INFO ] W-9002-model-stdout com.amazonaws.ml.mms.wlm.WorkerLifeCycle - Python runtime: 3.6.8\n",
      "\u001b[36malgo-1-4z4hp_1  |\u001b[0m 2020-05-28 11:51:04,046 [INFO ] W-9000-model-stdout com.amazonaws.ml.mms.wlm.WorkerLifeCycle - Python runtime: 3.6.8\n",
      "\u001b[36malgo-1-4z4hp_1  |\u001b[0m 2020-05-28 11:51:04,048 [INFO ] W-9000-model com.amazonaws.ml.mms.wlm.WorkerThread - Connecting to: /home/model-server/tmp/.mms.sock.9000\n",
      "\u001b[36malgo-1-4z4hp_1  |\u001b[0m 2020-05-28 11:51:04,048 [INFO ] W-9002-model com.amazonaws.ml.mms.wlm.WorkerThread - Connecting to: /home/model-server/tmp/.mms.sock.9002\n",
      "\u001b[36malgo-1-4z4hp_1  |\u001b[0m 2020-05-28 11:51:04,048 [INFO ] W-9003-model com.amazonaws.ml.mms.wlm.WorkerThread - Connecting to: /home/model-server/tmp/.mms.sock.9003\n",
      "\u001b[36malgo-1-4z4hp_1  |\u001b[0m 2020-05-28 11:51:04,049 [INFO ] W-9001-model-stdout com.amazonaws.ml.mms.wlm.WorkerLifeCycle - Listening on port: /home/model-server/tmp/.mms.sock.9001\n",
      "\u001b[36malgo-1-4z4hp_1  |\u001b[0m 2020-05-28 11:51:04,049 [INFO ] W-9001-model-stdout com.amazonaws.ml.mms.wlm.WorkerLifeCycle - [PID]172\n",
      "\u001b[36malgo-1-4z4hp_1  |\u001b[0m 2020-05-28 11:51:04,049 [INFO ] W-9001-model-stdout com.amazonaws.ml.mms.wlm.WorkerLifeCycle - MXNet worker started.\n",
      "\u001b[36malgo-1-4z4hp_1  |\u001b[0m 2020-05-28 11:51:04,049 [INFO ] W-9001-model com.amazonaws.ml.mms.wlm.WorkerThread - Connecting to: /home/model-server/tmp/.mms.sock.9001\n",
      "\u001b[36malgo-1-4z4hp_1  |\u001b[0m 2020-05-28 11:51:04,049 [INFO ] W-9001-model-stdout com.amazonaws.ml.mms.wlm.WorkerLifeCycle - Python runtime: 3.6.8\n",
      "\u001b[36malgo-1-4z4hp_1  |\u001b[0m 2020-05-28 11:51:04,062 [INFO ] W-9002-model-stdout com.amazonaws.ml.mms.wlm.WorkerLifeCycle - Connection accepted: /home/model-server/tmp/.mms.sock.9002.\n",
      "\u001b[36malgo-1-4z4hp_1  |\u001b[0m 2020-05-28 11:51:04,062 [INFO ] W-9001-model-stdout com.amazonaws.ml.mms.wlm.WorkerLifeCycle - Connection accepted: /home/model-server/tmp/.mms.sock.9001.\n",
      "\u001b[36malgo-1-4z4hp_1  |\u001b[0m 2020-05-28 11:51:04,062 [INFO ] W-9003-model-stdout com.amazonaws.ml.mms.wlm.WorkerLifeCycle - Connection accepted: /home/model-server/tmp/.mms.sock.9003.\n",
      "\u001b[36malgo-1-4z4hp_1  |\u001b[0m 2020-05-28 11:51:04,062 [INFO ] W-9000-model-stdout com.amazonaws.ml.mms.wlm.WorkerLifeCycle - Connection accepted: /home/model-server/tmp/.mms.sock.9000.\n",
      "\u001b[36malgo-1-4z4hp_1  |\u001b[0m 2020-05-28 11:51:08,306 [INFO ] pool-1-thread-5 ACCESS_LOG - /172.18.0.1:54118 \"GET /ping HTTP/1.1\" 200 12\n",
      "!mxnet-inference-2020-05-28-11-49-14-314\n",
      "CPU times: user 37.1 s, sys: 3.99 s, total: 41.1 s\n",
      "Wall time: 2min 22s\n",
      "\u001b[36malgo-1-4z4hp_1  |\u001b[0m 2020-05-28 11:51:08,608 [INFO ] W-9003-model-stdout com.amazonaws.ml.mms.wlm.WorkerLifeCycle - Use GPU\n",
      "\u001b[36malgo-1-4z4hp_1  |\u001b[0m 2020-05-28 11:51:08,608 [INFO ] W-9001-model-stdout com.amazonaws.ml.mms.wlm.WorkerLifeCycle - Use GPU\n",
      "\u001b[36malgo-1-4z4hp_1  |\u001b[0m 2020-05-28 11:51:08,608 [INFO ] W-9002-model-stdout com.amazonaws.ml.mms.wlm.WorkerLifeCycle - Use GPU\n",
      "\u001b[36malgo-1-4z4hp_1  |\u001b[0m 2020-05-28 11:51:08,608 [INFO ] W-9000-model-stdout com.amazonaws.ml.mms.wlm.WorkerLifeCycle - Use GPU\n",
      "\u001b[36malgo-1-4z4hp_1  |\u001b[0m 2020-05-28 11:51:13,024 [INFO ] W-9002-model com.amazonaws.ml.mms.wlm.WorkerThread - Backend response time: 8936\n",
      "\u001b[36malgo-1-4z4hp_1  |\u001b[0m 2020-05-28 11:51:13,041 [INFO ] W-9003-model com.amazonaws.ml.mms.wlm.WorkerThread - Backend response time: 8953\n",
      "\u001b[36malgo-1-4z4hp_1  |\u001b[0m 2020-05-28 11:51:13,059 [INFO ] W-9001-model com.amazonaws.ml.mms.wlm.WorkerThread - Backend response time: 8971\n",
      "\u001b[36malgo-1-4z4hp_1  |\u001b[0m 2020-05-28 11:51:13,063 [INFO ] W-9000-model com.amazonaws.ml.mms.wlm.WorkerThread - Backend response time: 8975\n"
     ]
    }
   ],
   "source": [
    "%%time\n",
    "predictor = mxnet_model.deploy(instance_type='local_gpu', initial_instance_count=1)\n",
    "print(predictor.endpoint)"
   ]
  },
  {
   "cell_type": "markdown",
   "metadata": {},
   "source": [
    "The code cell below performs real-time prediction."
   ]
  },
  {
   "cell_type": "code",
   "execution_count": 3,
   "metadata": {},
   "outputs": [
    {
     "name": "stdout",
     "output_type": "stream",
     "text": [
      "\u001b[36malgo-1-4z4hp_1  |\u001b[0m 2020-05-28 11:51:15,497 [INFO ] W-9002-model com.amazonaws.ml.mms.wlm.WorkerThread - Backend response time: 91\r\n",
      "\u001b[36malgo-1-4z4hp_1  |\u001b[0m 2020-05-28 11:51:15,497 [INFO ] W-9002-model ACCESS_LOG - /172.18.0.1:54172 \"POST /invocations HTTP/1.1\" 200 94\r\n",
      "{'score': [0.030505415052175522, 0.9694945812225342], 'time': 0.08880257606506348}\n"
     ]
    }
   ],
   "source": [
    "# Wow, this is a story that repeats reversal over reversal. Highly recommended\n",
    "input_sentence = '우와, 정말 반전에 반전을 거듭하는 스토리입니다. 강력 추천합니다.'\n",
    "pred_out = predictor.predict(input_sentence)\n",
    "print(pred_out)"
   ]
  },
  {
   "cell_type": "code",
   "execution_count": 4,
   "metadata": {},
   "outputs": [
    {
     "name": "stdout",
     "output_type": "stream",
     "text": [
      "\u001b[36malgo-1-4z4hp_1  |\u001b[0m 2020-05-28 11:51:21,400 [INFO ] W-9003-model com.amazonaws.ml.mms.wlm.WorkerThread - Backend response time: 87\r\n",
      "\u001b[36malgo-1-4z4hp_1  |\u001b[0m 2020-05-28 11:51:21,401 [INFO ] W-9003-model ACCESS_LOG - /172.18.0.1:54172 \"POST /invocations HTTP/1.1\" 200 89\r\n",
      "{'score': [0.9753417372703552, 0.024658288806676865], 'time': 0.08612608909606934}\n"
     ]
    }
   ],
   "source": [
    "# The contents are really messed up, and the actor's acting skills are also messed up.\n",
    "input_sentence = '하하, 정말 엉망진창에 배우 연기력도 꽝이에요.'\n",
    "pred_out = predictor.predict(input_sentence)\n",
    "print(pred_out)"
   ]
  },
  {
   "cell_type": "markdown",
   "metadata": {},
   "source": [
    "### Optional: Delete Endpoint"
   ]
  },
  {
   "cell_type": "code",
   "execution_count": 5,
   "metadata": {},
   "outputs": [
    {
     "name": "stdout",
     "output_type": "stream",
     "text": [
      "Gracefully stopping... (press Ctrl+C again to force)\n"
     ]
    }
   ],
   "source": [
    "predictor.delete_endpoint()\n",
    "predictor.delete_model()"
   ]
  }
 ],
 "metadata": {
  "kernelspec": {
   "display_name": "conda_mxnet_p36",
   "language": "python",
   "name": "conda_mxnet_p36"
  },
  "language_info": {
   "codemirror_mode": {
    "name": "ipython",
    "version": 3
   },
   "file_extension": ".py",
   "mimetype": "text/x-python",
   "name": "python",
   "nbconvert_exporter": "python",
   "pygments_lexer": "ipython3",
   "version": "3.6.5"
  }
 },
 "nbformat": 4,
 "nbformat_minor": 4
}
