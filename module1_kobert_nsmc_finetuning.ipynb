{
 "cells": [
  {
   "cell_type": "markdown",
   "metadata": {},
   "source": [
    "# Fine-tuning Naver Movie Review Sentiment Classification with KoBERT\n",
    "---\n",
    "\n",
    "In this tutorial, we focus on fine-tuning with the pre-trained BERT model to classify Naver movie review sentiment.\n",
    "\n",
    "Currently, the original author's KoBERT(Bi-directional Encoder Representations from Transformers) fine-tuning code does not work properly with the latest GluonNLP version. So we have modified the code for Hands-on Lab by referring to the GluonNLP tutorial (See https://gluon-nlp.mxnet.io/examples/sentence_embedding/bert.html).\n",
    "\n",
    "Specifically, we will:\n",
    "\n",
    "1. Load the pre-trained KoBERT model ahd attach an additional layer for classification\n",
    "2. Pre-processing data for Naver Movie Sentiment Classification\n",
    "3. Fine-tuning the KoBERT\n",
    "\n",
    "\n",
    "<br>\n",
    "\n",
    "## Optional: Background\n",
    "---\n",
    "BERT consists of 12 transformer layers for base model(110M parameters) and 24 transformer layers for large model(340M parameters).\n",
    "\n",
    "\n",
    "### Input Representation\n",
    "\n",
    "The following figure shows the input representation in BERT: \n",
    "\n",
    "![bert-embed](./imgs/bert-embed.png)\n",
    "\n",
    "- ***Token Embedding***: Word embedding as a token meaning expression.\n",
    "- ***Segment Embedding*** For the purpose of connecting sentence-sentence (divided by Token A and Token B), different values are assigned depending on the token type and the type of input sentence.\n",
    "- ***Position Embedding***: The purpose is to give the token sequential meaning. Unlike Positional Encoding, which has a fixed value parameter for position, Positional Embedding changes position information through training.\n",
    "\n",
    "\n",
    "### Special Tokens\n",
    "\n",
    "- `[SEP]`: An identifier token that indicates the end of a sentence and is also used to distinguish two sentences. (e.g. `[SEP]` after token A, `[SEP]` after token B). Note that this token is still required while having only single-sentence\n",
    "\n",
    "- `[CLS]`: The first token is always `[CLS]` (class token) and is used to solve the `IsNext / NotNext` classification problem for pre-training. It is used for classification task in fine-tuning.\n",
    "\n",
    "\n",
    "### Byte-pair Encoding(BPE)\n",
    "\n",
    "\n",
    "Preprocessing for BERT input data uses a statistical method called Byte-pair Encoding(BPE) based on WordPiece instead of morpheme analysis. Characters that appear frequently within a word are pasted into one token. This has the advantage of being able to generate tokens in any language. It is also good for dealing with words that are not in the dictionary, such as new words. \n",
    "\n",
    "Let's take a closer look. The more vocabulary you have, the more computational complexity. If the number of vocabularies is limited, however,  there are many unregistered words, which inevitably degrades the language representation. (i,e. Out of Vocabulary; OOV) The way to solve this is word segmentation by separating existing words.\n",
    "\n",
    "BPE uses a bottom-up approach that gradually creates a vocabulary in units of characters. First, the words in the training data are made up of vocabulary in all letters or unicode units, and the most common unigrams are combined into a single unigram.\n",
    "\n",
    "Let us give you a simple example. If you count the frequency of each word from some training data and save it as a dictionary (key: word, value: frequency), the result is as follows.\n",
    "\n",
    "- `low : 5, lower : 2, newest : 6, widest : 3`\n",
    "\n",
    "If all words of a dictionary are separated into letters (chracter), the result is as follows.\n",
    "- `l o w : 5,  l o w e r : 2,  n e w e s t : 6,  w i d e s t : 3`\n",
    "- `vocab: l, o, w, e, r, n, w, s, t, i, d`\n",
    "\n",
    "1st iteration: Since the pair of unigrams with the highest frequency is `(e, s)`, we merge them into `es`.\n",
    "- `l o w : 5, l o w e r : 2, n e w es t : 6, w i d es t : 3`\n",
    "- `vocab: l, o, w, e, r, n, w, s, t, i, d, es`\n",
    "\n",
    "2nd iteration: Since the pair of unigrams with the highest frequency is `(es, t)`, we merge them into `est`.\n",
    "- `l o w : 5, l o w e r : 2, n e w est : 6, w i d est : 3`\n",
    "- `vocab: l, o, w, e, r, n, w, s, t, i, d, es, est`\n",
    "\n",
    "After a few iteration, we get:\n",
    "- `low : 5, low e r : 2, newest : 6, widest : 3`\n",
    "- `vocab: l, o, w, e, r, n, w, s, t, i, d, es, est, lo, low, ne, new, newest, wi, wid, widest`\n",
    "\n",
    "If the word `'lowest'` appeared during the test phase, it would have been a word for OOV, but in the above set of words using the BPE algorithm, `'lowest'` is no longer OOV. The machine first divides the `'lowest'` into letters. That is, `'l, o, w, e, s, t'`. And the machine finds `'low'` and `'est'` with reference to the above word set. That is, the machine encodes 'lowest' as two words `'low'` and `'est'`.\n",
    "\n",
    "\n",
    "### GELU(Gaussian Error Linear Units) Activation Function\n",
    "\n",
    "- Combined ReLU + Dropout; Stochastically multiply the input by 0 or 1 and apply the activation function.\n",
    "- It transmits a slight gradient even for negative values.\n",
    "\n",
    "$$\n",
    "\\text{GELU}(x)=x\\Phi(x)=0.5x\\left(1+\\text{erf}\\left(\\frac{x}{\\sqrt{2}}\\right)\\right)\\simeq 0.5x\\left(1+\\text{tanh}\\left(\\sqrt{\\frac{2}{\\pi}}(x+0.044715x^3)\\right)\\right), \\\\\\text{ where } \\Phi(x) \\text{ is the cumulative distribution function of } \\mathcal{N}(0, 1)\n",
    "$$\n",
    "\n",
    "<br>\n",
    "\n",
    "## 1. Load Pre-trained Model\n",
    "---"
   ]
  },
  {
   "cell_type": "markdown",
   "metadata": {},
   "source": [
    "### Install/Update Packages\n",
    "\n",
    "If the CUDA toolkit version is less than 10.1, be sure to install the CUDA 10.1 or 10.2."
   ]
  },
  {
   "cell_type": "code",
   "execution_count": 1,
   "metadata": {},
   "outputs": [
    {
     "name": "stdout",
     "output_type": "stream",
     "text": [
      "nvcc: NVIDIA (R) Cuda compiler driver\r\n",
      "Copyright (c) 2005-2019 NVIDIA Corporation\r\n",
      "Built on Wed_Oct_23_19:24:38_PDT_2019\r\n",
      "Cuda compilation tools, release 10.2, V10.2.89\r\n"
     ]
    }
   ],
   "source": [
    "!nvcc -V"
   ]
  },
  {
   "cell_type": "code",
   "execution_count": 2,
   "metadata": {},
   "outputs": [
    {
     "data": {
      "text/plain": [
       "0"
      ]
     },
     "execution_count": 2,
     "metadata": {},
     "output_type": "execute_result"
    }
   ],
   "source": [
    "import sys, subprocess\n",
    "subprocess.call([sys.executable, '-m', 'pip', 'install', 'gluonnlp', 'torch', 'sentencepiece', 'tqdm', \n",
    "                 'onnxruntime', 'transformers', 'git+https://git@github.com/SKTBrain/KoBERT.git@master'])"
   ]
  },
  {
   "cell_type": "code",
   "execution_count": 3,
   "metadata": {},
   "outputs": [],
   "source": [
    "import io, os\n",
    "import random\n",
    "import pandas as pd\n",
    "import numpy as np\n",
    "import mxnet as mx\n",
    "from mxnet.gluon import nn, rnn\n",
    "from mxnet import nd, gluon, autograd\n",
    "import gluonnlp as nlp\n",
    "import time\n",
    "import itertools\n",
    "import random\n",
    "import sys\n",
    "\n",
    "sys.path.append(os.path.join(os.getcwd(), 'src'))\n",
    "\n",
    "from model import get_mxnet_kobert_model\n",
    "from kobert.utils import get_tokenizer\n",
    "from bert import BERTDatasetTransform, BERTDataset, BERTClassifier\n",
    "\n",
    "import warnings\n",
    "warnings.filterwarnings('ignore')"
   ]
  },
  {
   "cell_type": "code",
   "execution_count": 4,
   "metadata": {},
   "outputs": [],
   "source": [
    "np.random.seed(100)\n",
    "random.seed(100)\n",
    "mx.random.seed(10000)"
   ]
  },
  {
   "cell_type": "markdown",
   "metadata": {},
   "source": [
    "I assume you have at least one GPU. Of course, GPU is not required when deploying a trained model, but it is very slow without a GPU for training."
   ]
  },
  {
   "cell_type": "code",
   "execution_count": 5,
   "metadata": {},
   "outputs": [
    {
     "name": "stdout",
     "output_type": "stream",
     "text": [
      "Working Folder:  /home/ec2-user/SageMaker/kobert-workshop\n",
      "Number of GPUS: 2\n"
     ]
    }
   ],
   "source": [
    "wk_folder = os.getcwd()\n",
    "#num_gpus = mx.context.num_gpus()\n",
    "num_gpus = 2\n",
    "ctx = [mx.gpu(i) for i in range(num_gpus)]\n",
    "print(\"Working Folder: \", wk_folder)\n",
    "print(\"Number of GPUS:\" , num_gpus)"
   ]
  },
  {
   "cell_type": "markdown",
   "metadata": {},
   "source": [
    "### Get pre-trained KoBERT model"
   ]
  },
  {
   "cell_type": "code",
   "execution_count": 6,
   "metadata": {},
   "outputs": [
    {
     "name": "stdout",
     "output_type": "stream",
     "text": [
      "using cached model\n",
      "using cached model\n"
     ]
    }
   ],
   "source": [
    "bert_base, vocab = get_mxnet_kobert_model(use_decoder=False, use_classifier=False, ctx=ctx)"
   ]
  },
  {
   "cell_type": "markdown",
   "metadata": {},
   "source": [
    "### Initialize BERT Classifier\n",
    "We only need one addiational `Dense` layer for classification task.\n",
    "GluonNLP's `model` class supports the `BERTClassifier()`, so you can easily add the classifier layer in one line. Of course, you can implement your own class. See `src/bert.py` for details."
   ]
  },
  {
   "cell_type": "code",
   "execution_count": 7,
   "metadata": {},
   "outputs": [],
   "source": [
    "bert_classifier = nlp.model.BERTClassifier(bert_base, num_classes=2, dropout=0.5)\n",
    "#bert_classifier = BERTClassifier(bert_base, num_classes=2, dropout=0.5)\n",
    "\n",
    "# Only need to initialize the classifier layer.\n",
    "bert_classifier.classifier.initialize(init=mx.init.Normal(0.02), ctx=ctx)\n",
    "bert_classifier.hybridize(static_alloc=True)\n",
    "\n",
    "# softmax cross entropy loss for classification\n",
    "loss_function = gluon.loss.SoftmaxCELoss()\n",
    "loss_function.hybridize(static_alloc=True)\n",
    "\n",
    "metric = mx.metric.Accuracy()"
   ]
  },
  {
   "cell_type": "code",
   "execution_count": 8,
   "metadata": {},
   "outputs": [
    {
     "name": "stdout",
     "output_type": "stream",
     "text": [
      "BERTClassifier(\n",
      "  (bert): BERTModel(\n",
      "    (encoder): BERTEncoder(\n",
      "      (dropout_layer): Dropout(p = 0.1, axes=())\n",
      "      (layer_norm): LayerNorm(eps=1e-12, axis=-1, center=True, scale=True, in_channels=768)\n",
      "      (transformer_cells): HybridSequential(\n",
      "        (0): BERTEncoderCell(\n",
      "          (dropout_layer): Dropout(p = 0.1, axes=())\n",
      "          (attention_cell): DotProductSelfAttentionCell(\n",
      "            (dropout_layer): Dropout(p = 0.1, axes=())\n",
      "          )\n",
      "          (proj): Dense(768 -> 768, linear)\n",
      "          (ffn): PositionwiseFFN(\n",
      "            (ffn_1): Dense(768 -> 3072, linear)\n",
      "            (activation): GELU()\n",
      "            (ffn_2): Dense(3072 -> 768, linear)\n",
      "            (dropout_layer): Dropout(p = 0.1, axes=())\n",
      "            (layer_norm): LayerNorm(eps=1e-12, axis=-1, center=True, scale=True, in_channels=768)\n",
      "          )\n",
      "          (layer_norm): LayerNorm(eps=1e-12, axis=-1, center=True, scale=True, in_channels=768)\n",
      "        )\n",
      "        (1): BERTEncoderCell(\n",
      "          (dropout_layer): Dropout(p = 0.1, axes=())\n",
      "          (attention_cell): DotProductSelfAttentionCell(\n",
      "            (dropout_layer): Dropout(p = 0.1, axes=())\n",
      "          )\n",
      "          (proj): Dense(768 -> 768, linear)\n",
      "          (ffn): PositionwiseFFN(\n",
      "            (ffn_1): Dense(768 -> 3072, linear)\n",
      "            (activation): GELU()\n",
      "            (ffn_2): Dense(3072 -> 768, linear)\n",
      "            (dropout_layer): Dropout(p = 0.1, axes=())\n",
      "            (layer_norm): LayerNorm(eps=1e-12, axis=-1, center=True, scale=True, in_channels=768)\n",
      "          )\n",
      "          (layer_norm): LayerNorm(eps=1e-12, axis=-1, center=True, scale=True, in_channels=768)\n",
      "        )\n",
      "        (2): BERTEncoderCell(\n",
      "          (dropout_layer): Dropout(p = 0.1, axes=())\n",
      "          (attention_cell): DotProductSelfAttentionCell(\n",
      "            (dropout_layer): Dropout(p = 0.1, axes=())\n",
      "          )\n",
      "          (proj): Dense(768 -> 768, linear)\n",
      "          (ffn): PositionwiseFFN(\n",
      "            (ffn_1): Dense(768 -> 3072, linear)\n",
      "            (activation): GELU()\n",
      "            (ffn_2): Dense(3072 -> 768, linear)\n",
      "            (dropout_layer): Dropout(p = 0.1, axes=())\n",
      "            (layer_norm): LayerNorm(eps=1e-12, axis=-1, center=True, scale=True, in_channels=768)\n",
      "          )\n",
      "          (layer_norm): LayerNorm(eps=1e-12, axis=-1, center=True, scale=True, in_channels=768)\n",
      "        )\n",
      "        (3): BERTEncoderCell(\n",
      "          (dropout_layer): Dropout(p = 0.1, axes=())\n",
      "          (attention_cell): DotProductSelfAttentionCell(\n",
      "            (dropout_layer): Dropout(p = 0.1, axes=())\n",
      "          )\n",
      "          (proj): Dense(768 -> 768, linear)\n",
      "          (ffn): PositionwiseFFN(\n",
      "            (ffn_1): Dense(768 -> 3072, linear)\n",
      "            (activation): GELU()\n",
      "            (ffn_2): Dense(3072 -> 768, linear)\n",
      "            (dropout_layer): Dropout(p = 0.1, axes=())\n",
      "            (layer_norm): LayerNorm(eps=1e-12, axis=-1, center=True, scale=True, in_channels=768)\n",
      "          )\n",
      "          (layer_norm): LayerNorm(eps=1e-12, axis=-1, center=True, scale=True, in_channels=768)\n",
      "        )\n",
      "        (4): BERTEncoderCell(\n",
      "          (dropout_layer): Dropout(p = 0.1, axes=())\n",
      "          (attention_cell): DotProductSelfAttentionCell(\n",
      "            (dropout_layer): Dropout(p = 0.1, axes=())\n",
      "          )\n",
      "          (proj): Dense(768 -> 768, linear)\n",
      "          (ffn): PositionwiseFFN(\n",
      "            (ffn_1): Dense(768 -> 3072, linear)\n",
      "            (activation): GELU()\n",
      "            (ffn_2): Dense(3072 -> 768, linear)\n",
      "            (dropout_layer): Dropout(p = 0.1, axes=())\n",
      "            (layer_norm): LayerNorm(eps=1e-12, axis=-1, center=True, scale=True, in_channels=768)\n",
      "          )\n",
      "          (layer_norm): LayerNorm(eps=1e-12, axis=-1, center=True, scale=True, in_channels=768)\n",
      "        )\n",
      "        (5): BERTEncoderCell(\n",
      "          (dropout_layer): Dropout(p = 0.1, axes=())\n",
      "          (attention_cell): DotProductSelfAttentionCell(\n",
      "            (dropout_layer): Dropout(p = 0.1, axes=())\n",
      "          )\n",
      "          (proj): Dense(768 -> 768, linear)\n",
      "          (ffn): PositionwiseFFN(\n",
      "            (ffn_1): Dense(768 -> 3072, linear)\n",
      "            (activation): GELU()\n",
      "            (ffn_2): Dense(3072 -> 768, linear)\n",
      "            (dropout_layer): Dropout(p = 0.1, axes=())\n",
      "            (layer_norm): LayerNorm(eps=1e-12, axis=-1, center=True, scale=True, in_channels=768)\n",
      "          )\n",
      "          (layer_norm): LayerNorm(eps=1e-12, axis=-1, center=True, scale=True, in_channels=768)\n",
      "        )\n",
      "        (6): BERTEncoderCell(\n",
      "          (dropout_layer): Dropout(p = 0.1, axes=())\n",
      "          (attention_cell): DotProductSelfAttentionCell(\n",
      "            (dropout_layer): Dropout(p = 0.1, axes=())\n",
      "          )\n",
      "          (proj): Dense(768 -> 768, linear)\n",
      "          (ffn): PositionwiseFFN(\n",
      "            (ffn_1): Dense(768 -> 3072, linear)\n",
      "            (activation): GELU()\n",
      "            (ffn_2): Dense(3072 -> 768, linear)\n",
      "            (dropout_layer): Dropout(p = 0.1, axes=())\n",
      "            (layer_norm): LayerNorm(eps=1e-12, axis=-1, center=True, scale=True, in_channels=768)\n",
      "          )\n",
      "          (layer_norm): LayerNorm(eps=1e-12, axis=-1, center=True, scale=True, in_channels=768)\n",
      "        )\n",
      "        (7): BERTEncoderCell(\n",
      "          (dropout_layer): Dropout(p = 0.1, axes=())\n",
      "          (attention_cell): DotProductSelfAttentionCell(\n",
      "            (dropout_layer): Dropout(p = 0.1, axes=())\n",
      "          )\n",
      "          (proj): Dense(768 -> 768, linear)\n",
      "          (ffn): PositionwiseFFN(\n",
      "            (ffn_1): Dense(768 -> 3072, linear)\n",
      "            (activation): GELU()\n",
      "            (ffn_2): Dense(3072 -> 768, linear)\n",
      "            (dropout_layer): Dropout(p = 0.1, axes=())\n",
      "            (layer_norm): LayerNorm(eps=1e-12, axis=-1, center=True, scale=True, in_channels=768)\n",
      "          )\n",
      "          (layer_norm): LayerNorm(eps=1e-12, axis=-1, center=True, scale=True, in_channels=768)\n",
      "        )\n",
      "        (8): BERTEncoderCell(\n",
      "          (dropout_layer): Dropout(p = 0.1, axes=())\n",
      "          (attention_cell): DotProductSelfAttentionCell(\n",
      "            (dropout_layer): Dropout(p = 0.1, axes=())\n",
      "          )\n",
      "          (proj): Dense(768 -> 768, linear)\n",
      "          (ffn): PositionwiseFFN(\n",
      "            (ffn_1): Dense(768 -> 3072, linear)\n",
      "            (activation): GELU()\n",
      "            (ffn_2): Dense(3072 -> 768, linear)\n",
      "            (dropout_layer): Dropout(p = 0.1, axes=())\n",
      "            (layer_norm): LayerNorm(eps=1e-12, axis=-1, center=True, scale=True, in_channels=768)\n",
      "          )\n",
      "          (layer_norm): LayerNorm(eps=1e-12, axis=-1, center=True, scale=True, in_channels=768)\n",
      "        )\n",
      "        (9): BERTEncoderCell(\n",
      "          (dropout_layer): Dropout(p = 0.1, axes=())\n",
      "          (attention_cell): DotProductSelfAttentionCell(\n",
      "            (dropout_layer): Dropout(p = 0.1, axes=())\n",
      "          )\n",
      "          (proj): Dense(768 -> 768, linear)\n",
      "          (ffn): PositionwiseFFN(\n",
      "            (ffn_1): Dense(768 -> 3072, linear)\n",
      "            (activation): GELU()\n",
      "            (ffn_2): Dense(3072 -> 768, linear)\n",
      "            (dropout_layer): Dropout(p = 0.1, axes=())\n",
      "            (layer_norm): LayerNorm(eps=1e-12, axis=-1, center=True, scale=True, in_channels=768)\n",
      "          )\n",
      "          (layer_norm): LayerNorm(eps=1e-12, axis=-1, center=True, scale=True, in_channels=768)\n",
      "        )\n",
      "        (10): BERTEncoderCell(\n",
      "          (dropout_layer): Dropout(p = 0.1, axes=())\n",
      "          (attention_cell): DotProductSelfAttentionCell(\n",
      "            (dropout_layer): Dropout(p = 0.1, axes=())\n",
      "          )\n",
      "          (proj): Dense(768 -> 768, linear)\n",
      "          (ffn): PositionwiseFFN(\n",
      "            (ffn_1): Dense(768 -> 3072, linear)\n",
      "            (activation): GELU()\n",
      "            (ffn_2): Dense(3072 -> 768, linear)\n",
      "            (dropout_layer): Dropout(p = 0.1, axes=())\n",
      "            (layer_norm): LayerNorm(eps=1e-12, axis=-1, center=True, scale=True, in_channels=768)\n",
      "          )\n",
      "          (layer_norm): LayerNorm(eps=1e-12, axis=-1, center=True, scale=True, in_channels=768)\n",
      "        )\n",
      "        (11): BERTEncoderCell(\n",
      "          (dropout_layer): Dropout(p = 0.1, axes=())\n",
      "          (attention_cell): DotProductSelfAttentionCell(\n",
      "            (dropout_layer): Dropout(p = 0.1, axes=())\n",
      "          )\n",
      "          (proj): Dense(768 -> 768, linear)\n",
      "          (ffn): PositionwiseFFN(\n",
      "            (ffn_1): Dense(768 -> 3072, linear)\n",
      "            (activation): GELU()\n",
      "            (ffn_2): Dense(3072 -> 768, linear)\n",
      "            (dropout_layer): Dropout(p = 0.1, axes=())\n",
      "            (layer_norm): LayerNorm(eps=1e-12, axis=-1, center=True, scale=True, in_channels=768)\n",
      "          )\n",
      "          (layer_norm): LayerNorm(eps=1e-12, axis=-1, center=True, scale=True, in_channels=768)\n",
      "        )\n",
      "      )\n",
      "    )\n",
      "    (word_embed): HybridSequential(\n",
      "      (0): Embedding(8002 -> 768, float32)\n",
      "    )\n",
      "    (token_type_embed): HybridSequential(\n",
      "      (0): Embedding(2 -> 768, float32)\n",
      "    )\n",
      "    (pooler): Dense(768 -> 768, Activation(tanh))\n",
      "  )\n",
      "  (classifier): HybridSequential(\n",
      "    (0): Dropout(p = 0.5, axes=())\n",
      "    (1): Dense(None -> 2, linear)\n",
      "  )\n",
      ")\n"
     ]
    }
   ],
   "source": [
    "print(bert_classifier)"
   ]
  },
  {
   "cell_type": "markdown",
   "metadata": {},
   "source": [
    "<br>\n",
    "\n",
    "## 2. Preparing the Dataset\n",
    "---\n",
    "\n",
    "Naver Movie Review data is publicly available at https://github.com/e9t/nsmc/ and consists of 150,000 training data and 50,000 test data. This data is often used for NLP benchmarking like IMDB review data in Korea. Sample data is shown below.\n",
    "\n",
    "![naver-movieembed](./imgs/naver-movie-sample.png)"
   ]
  },
  {
   "cell_type": "code",
   "execution_count": 9,
   "metadata": {},
   "outputs": [
    {
     "name": "stdout",
     "output_type": "stream",
     "text": [
      "--2020-05-26 23:41:06--  https://www.dropbox.com/s/374ftkec978br3d/ratings_train.txt?dl=1\n",
      "Resolving www.dropbox.com (www.dropbox.com)... 162.125.6.1, 2620:100:601c:1::a27d:601\n",
      "Connecting to www.dropbox.com (www.dropbox.com)|162.125.6.1|:443... connected.\n",
      "HTTP request sent, awaiting response... 301 Moved Permanently\n",
      "Location: /s/dl/374ftkec978br3d/ratings_train.txt [following]\n",
      "--2020-05-26 23:41:06--  https://www.dropbox.com/s/dl/374ftkec978br3d/ratings_train.txt\n",
      "Reusing existing connection to www.dropbox.com:443.\n",
      "HTTP request sent, awaiting response... 302 Found\n",
      "Location: https://ucb6c1c491bc9928e0f5a287d2af.dl.dropboxusercontent.com/cd/0/get/A4cSqRCHeWzBjLyO1eKzF0amkeUphXWpJTClHY9TSttXbh5EChgKF1d-ZEOFivefdRJ8OdEjfZkYxrZc3i_UILJBa8_G2RCfB0wLL8o8Xpk1QVI8xdX7MMLq4tEOxL_Qe1Q/file?dl=1# [following]\n",
      "--2020-05-26 23:41:06--  https://ucb6c1c491bc9928e0f5a287d2af.dl.dropboxusercontent.com/cd/0/get/A4cSqRCHeWzBjLyO1eKzF0amkeUphXWpJTClHY9TSttXbh5EChgKF1d-ZEOFivefdRJ8OdEjfZkYxrZc3i_UILJBa8_G2RCfB0wLL8o8Xpk1QVI8xdX7MMLq4tEOxL_Qe1Q/file?dl=1\n",
      "Resolving ucb6c1c491bc9928e0f5a287d2af.dl.dropboxusercontent.com (ucb6c1c491bc9928e0f5a287d2af.dl.dropboxusercontent.com)... 162.125.6.6, 2620:100:601c:6::a27d:606\n",
      "Connecting to ucb6c1c491bc9928e0f5a287d2af.dl.dropboxusercontent.com (ucb6c1c491bc9928e0f5a287d2af.dl.dropboxusercontent.com)|162.125.6.6|:443... connected.\n",
      "HTTP request sent, awaiting response... 200 OK\n",
      "Length: 14628807 (14M) [application/binary]\n",
      "Saving to: ‘train.txt’\n",
      "\n",
      "train.txt           100%[===================>]  13.95M  --.-KB/s    in 0.08s   \n",
      "\n",
      "2020-05-26 23:41:07 (174 MB/s) - ‘train.txt’ saved [14628807/14628807]\n",
      "\n",
      "--2020-05-26 23:41:07--  https://www.dropbox.com/s/977gbwh542gdy94/ratings_test.txt?dl=1\n",
      "Resolving www.dropbox.com (www.dropbox.com)... 162.125.6.1, 2620:100:601c:1::a27d:601\n",
      "Connecting to www.dropbox.com (www.dropbox.com)|162.125.6.1|:443... connected.\n",
      "HTTP request sent, awaiting response... 301 Moved Permanently\n",
      "Location: /s/dl/977gbwh542gdy94/ratings_test.txt [following]\n",
      "--2020-05-26 23:41:07--  https://www.dropbox.com/s/dl/977gbwh542gdy94/ratings_test.txt\n",
      "Reusing existing connection to www.dropbox.com:443.\n",
      "HTTP request sent, awaiting response... 302 Found\n",
      "Location: https://uc9111c9e46aaaa5f42bb552f6ff.dl.dropboxusercontent.com/cd/0/get/A4ejgPMF5XlVmIX3qr7z6S77XhYg5RuUMlWmatirXfksz-x0ZZWHA5QFtzB2gLne7Luk2mYiS3FkurLXHRMUxt6--xRnROT0n0XUP0Jdp6A0ChU3VW0Ps3rnJGx30GID7tk/file?dl=1# [following]\n",
      "--2020-05-26 23:41:08--  https://uc9111c9e46aaaa5f42bb552f6ff.dl.dropboxusercontent.com/cd/0/get/A4ejgPMF5XlVmIX3qr7z6S77XhYg5RuUMlWmatirXfksz-x0ZZWHA5QFtzB2gLne7Luk2mYiS3FkurLXHRMUxt6--xRnROT0n0XUP0Jdp6A0ChU3VW0Ps3rnJGx30GID7tk/file?dl=1\n",
      "Resolving uc9111c9e46aaaa5f42bb552f6ff.dl.dropboxusercontent.com (uc9111c9e46aaaa5f42bb552f6ff.dl.dropboxusercontent.com)... 162.125.6.6, 2620:100:601c:6::a27d:606\n",
      "Connecting to uc9111c9e46aaaa5f42bb552f6ff.dl.dropboxusercontent.com (uc9111c9e46aaaa5f42bb552f6ff.dl.dropboxusercontent.com)|162.125.6.6|:443... connected.\n",
      "HTTP request sent, awaiting response... 200 OK\n",
      "Length: 4893335 (4.7M) [application/binary]\n",
      "Saving to: ‘test.txt’\n",
      "\n",
      "test.txt            100%[===================>]   4.67M  --.-KB/s    in 0.03s   \n",
      "\n",
      "2020-05-26 23:41:08 (150 MB/s) - ‘test.txt’ saved [4893335/4893335]\n",
      "\n"
     ]
    }
   ],
   "source": [
    "!wget -O train.txt https://www.dropbox.com/s/374ftkec978br3d/ratings_train.txt?dl=1\n",
    "!wget -O test.txt https://www.dropbox.com/s/977gbwh542gdy94/ratings_test.txt?dl=1"
   ]
  },
  {
   "cell_type": "code",
   "execution_count": 10,
   "metadata": {},
   "outputs": [],
   "source": [
    "dataset_train = nlp.data.TSVDataset(\"train.txt\", field_indices=[1,2], num_discard_samples=1)\n",
    "dataset_test = nlp.data.TSVDataset(\"test.txt\", field_indices=[1,2], num_discard_samples=1)"
   ]
  },
  {
   "cell_type": "markdown",
   "metadata": {},
   "source": [
    "<br>\n",
    "\n",
    "## 3. Tokenization & Transform\n",
    "---\n",
    "Transform the dataset into the format that BERT can be trained on. \n",
    "\n",
    "### Get tokenizer"
   ]
  },
  {
   "cell_type": "code",
   "execution_count": 11,
   "metadata": {},
   "outputs": [
    {
     "name": "stdout",
     "output_type": "stream",
     "text": [
      "using cached model\n"
     ]
    }
   ],
   "source": [
    "tokenizer = get_tokenizer()\n",
    "bert_tokenizer = nlp.data.BERTSPTokenizer(tokenizer, vocab, lower=False)"
   ]
  },
  {
   "cell_type": "markdown",
   "metadata": {},
   "source": [
    "### Transformation\n",
    "\n",
    "Input sentences must be converted to token index, token type, and valid length, which are necessary input vectors for BERT training. Token index is required to generate Token Embedding, token type is required for Sentence Embedding, and valid length is required to perform various operations internally. \n",
    "\n",
    "- ***Token Index***: The vocabulary index of each token is extracted and generated as a vector of a fixed length. We often refer to these vectors as `token_id`.\n",
    "For reference, some vocabulary indexes are already reserved (e.g., The vocabulary indexes of `[PAD], [CLS], [SEP], [MASK]` are 1, 2, 3, 4, respectively).\n",
    "- ***Token Type***: Since single sentence or two sentences can come in, token segment vectors are required to distinguish them if a token belongs to first sentence or the second sentence. We often refer to these vectors as `segment_id`. \n",
    "    - In the case of single sentence, the value of each token is always 0.\n",
    "    - In the case of two sentences, the token belonging to the first sentence is 0, and the token belonging to the second sentence is 1.\n"
   ]
  },
  {
   "cell_type": "code",
   "execution_count": 12,
   "metadata": {},
   "outputs": [
    {
     "name": "stdout",
     "output_type": "stream",
     "text": [
      "vocabulary used for tokenization = \n",
      "Vocab(size=8002, unk=\"[UNK]\", reserved=\"['[CLS]', '[SEP]', '[MASK]', '[PAD]']\")\n",
      "[PAD] token id = 1\n",
      "[CLS] token id = 2\n",
      "[SEP] token id = 3\n",
      "[MASK] token id = 4\n"
     ]
    }
   ],
   "source": [
    "print('vocabulary used for tokenization = \\n%s'%vocab)\n",
    "print('%s token id = %s'%(vocab.padding_token, vocab[vocab.padding_token]))\n",
    "print('%s token id = %s'%(vocab.cls_token, vocab[vocab.cls_token]))\n",
    "print('%s token id = %s'%(vocab.sep_token, vocab[vocab.sep_token]))\n",
    "print('%s token id = %s'%(vocab.mask_token, vocab[vocab.mask_token]))"
   ]
  },
  {
   "cell_type": "markdown",
   "metadata": {},
   "source": [
    "Transformation is performed through the following procedures.\n",
    "\n",
    "- Tokenize the input sequences \n",
    "- Insert `[CLS]` token at the beginning \n",
    "- Insert `[SEP]` token between sentence A and sentence B, and at the end \n",
    "- Generate segment ids to indicate whether a token belongs to the first sequence or the second sequence. If the input sentence is not a pair, this value is always 0.\n",
    "- Generate valid length.\n",
    "\n",
    "Let's transform one sentence for test purpose."
   ]
  },
  {
   "cell_type": "code",
   "execution_count": 13,
   "metadata": {},
   "outputs": [
    {
     "name": "stdout",
     "output_type": "stream",
     "text": [
      "=== Original === \n",
      "[['아 더빙.. 진짜 짜증나네요 목소리']]\n",
      "label: 0\n",
      "\n",
      "=== Transformed ===\n",
      "[(array([   2, 3093, 1698, 6456,  517,   54,  517,   54, 4368, 4396, 7316,\n",
      "       5655, 5703, 2073,    3,    1,    1,    1,    1,    1], dtype=int32), array(15, dtype=int32), array([0, 0, 0, 0, 0, 0, 0, 0, 0, 0, 0, 0, 0, 0, 0, 0, 0, 0, 0, 0],\n",
      "      dtype=int32))]\n"
     ]
    }
   ],
   "source": [
    "def print_sample_transform(dataset, idx, bert_tokenizer, max_seq_length=20, pair=False):\n",
    "    sen = [[dataset[idx][0]]]\n",
    "    label = dataset[idx][1]\n",
    "    data_sample = gluon.data.SimpleDataset(sen)\n",
    "    transform = nlp.data.BERTSentenceTransform(bert_tokenizer, max_seq_length=max_seq_length, pair=pair)\n",
    "    out = list(data_sample.transform(transform))\n",
    "    print('=== Original === ')\n",
    "    print(sen)\n",
    "    print('label: ' + label)\n",
    "    print('\\n=== Transformed ===')\n",
    "    print(out)\n",
    "        \n",
    "print_sample_transform(dataset_train, 0, bert_tokenizer)"
   ]
  },
  {
   "cell_type": "markdown",
   "metadata": {},
   "source": [
    "Let's convert all sententces. When converting multiple sentences, it is convenient to use the `BERTDatasetTransform()` function, which is published in the GluonNLP tutorial. The training and evaluation time varies depending on the `max_len` parameter. In this example, we recommend 64."
   ]
  },
  {
   "cell_type": "code",
   "execution_count": 14,
   "metadata": {},
   "outputs": [],
   "source": [
    "max_len = 64\n",
    "all_labels = ['0','1']\n",
    "\n",
    "# for single sentence classification, set pair=False\n",
    "# for regression task, set class_labels=None\n",
    "# for inference without label available, set has_label=False\n",
    "transform = BERTDatasetTransform(bert_tokenizer, max_len,\n",
    "                                                class_labels=all_labels,\n",
    "                                                has_label=True,\n",
    "                                                pad=True,\n",
    "                                                pair=False)\n",
    "data_train = dataset_train.transform(transform)\n",
    "data_test = dataset_test.transform(transform)"
   ]
  },
  {
   "cell_type": "markdown",
   "metadata": {},
   "source": [
    "Let's check sample outputs."
   ]
  },
  {
   "cell_type": "code",
   "execution_count": 15,
   "metadata": {},
   "outputs": [
    {
     "name": "stdout",
     "output_type": "stream",
     "text": [
      "token ids = \n",
      "[   2 3093 1698 6456  517   54  517   54 4368 4396 7316 5655 5703 2073\n",
      "    3    1    1    1    1    1    1    1    1    1    1    1    1    1\n",
      "    1    1    1    1    1    1    1    1    1    1    1    1    1    1\n",
      "    1    1    1    1    1    1    1    1    1    1    1    1    1    1\n",
      "    1    1    1    1    1    1    1    1]\n",
      "segment ids = \n",
      "[0 0 0 0 0 0 0 0 0 0 0 0 0 0 0 0 0 0 0 0 0 0 0 0 0 0 0 0 0 0 0 0 0 0 0 0 0\n",
      " 0 0 0 0 0 0 0 0 0 0 0 0 0 0 0 0 0 0 0 0 0 0 0 0 0 0 0]\n",
      "valid length = \n",
      "15\n",
      "label = \n",
      "[0]\n"
     ]
    }
   ],
   "source": [
    "sample_id = 0\n",
    "print('token ids = \\n%s'%data_train[sample_id][0])\n",
    "print('segment ids = \\n%s'%data_train[sample_id][1])\n",
    "print('valid length = \\n%s'%data_train[sample_id][2])\n",
    "print('label = \\n%s'%data_train[sample_id][3])"
   ]
  },
  {
   "cell_type": "markdown",
   "metadata": {},
   "source": [
    "<br>\n",
    "\n",
    "## 4. Creating DataLoader and Trainer \n",
    "---\n",
    "We need to create an iterator for tha dataset using `DataLoader`. Iterators save memory during training because you don not have to load the entire dataset into memory."
   ]
  },
  {
   "cell_type": "markdown",
   "metadata": {},
   "source": [
    "### Setting hyperparameters\n",
    "\n",
    "You can specify only 1 for `num_epoch`. This dataset is close to 90% accuracy when fine-tuning with KoBERT, but training only 1 epoch yields 88% accuracy."
   ]
  },
  {
   "cell_type": "code",
   "execution_count": 16,
   "metadata": {},
   "outputs": [],
   "source": [
    "batch_size = 64 * num_gpus\n",
    "num_epochs = 4\n",
    "max_grad_norm = 1\n",
    "log_interval = 50\n",
    "lr = 5e-5"
   ]
  },
  {
   "cell_type": "markdown",
   "metadata": {},
   "source": [
    "`FixedBucketSampler()` assigns each data sample to a fixed bucket based on its length.\n",
    "Without the bucketing strategy, it is inefficient because one or two long sentences in each bucket can cause unnecessary padding.\n",
    "\n",
    "![no_bucket_strategy](./imgs/no_bucket_strategy.png)\n",
    "\n",
    "\n",
    "![fixed_bucket_strategy_ratio0.7](./imgs/fixed_bucket_strategy_ratio0.7.png)"
   ]
  },
  {
   "cell_type": "code",
   "execution_count": 17,
   "metadata": {},
   "outputs": [
    {
     "name": "stdout",
     "output_type": "stream",
     "text": [
      "CPU times: user 22.1 s, sys: 0 ns, total: 22.1 s\n",
      "Wall time: 22.1 s\n"
     ]
    }
   ],
   "source": [
    "%%time\n",
    "# The FixedBucketSampler and the DataLoader for making the mini-batches\n",
    "train_sampler = nlp.data.FixedBucketSampler(lengths=[int(item[2]) for item in data_train],\n",
    "                                            batch_size=batch_size,\n",
    "                                            shuffle=True)\n",
    "train_dataloader = gluon.data.DataLoader(data_train, batch_sampler=train_sampler)"
   ]
  },
  {
   "cell_type": "code",
   "execution_count": 18,
   "metadata": {},
   "outputs": [
    {
     "name": "stdout",
     "output_type": "stream",
     "text": [
      "CPU times: user 7.35 s, sys: 0 ns, total: 7.35 s\n",
      "Wall time: 7.35 s\n"
     ]
    }
   ],
   "source": [
    "%%time\n",
    "test_sampler = nlp.data.FixedBucketSampler(lengths=[int(item[2]) for item in data_test],\n",
    "                                            batch_size=batch_size,\n",
    "                                            shuffle=True)\n",
    "test_dataloader = mx.gluon.data.DataLoader(data_test, batch_sampler=test_sampler)"
   ]
  },
  {
   "cell_type": "markdown",
   "metadata": {},
   "source": [
    "Initialize the `gluon.Trainer()`. Gradient clipping to prevent the exploding gradient can be implemented during training, but can be used simply by specifying it when initializing the `gluon.Trainer()`."
   ]
  },
  {
   "cell_type": "code",
   "execution_count": 19,
   "metadata": {},
   "outputs": [],
   "source": [
    "all_model_params = bert_classifier.collect_params()\n",
    "trainer = gluon.Trainer(all_model_params, 'adam',\n",
    "                        {'learning_rate': lr, 'epsilon': 1e-9, 'clip_gradient': 1}, \n",
    "                        kvstore='device')\n",
    "    \n",
    "# Weight Decay is not applied to LayerNorm and Bias.\n",
    "for _, v in bert_classifier.collect_params('.*beta|.*gamma|.*bias').items():\n",
    "    v.wd_mult = 0.0\n",
    "    \n",
    "# Collect all differentiable parameters\n",
    "# `grad_req == 'null'` indicates no gradients are calculated (e.g. constant parameters)\n",
    "# The gradients for these params are clipped later\n",
    "params = [p for p in all_model_params.values() if p.grad_req != 'null']  "
   ]
  },
  {
   "cell_type": "markdown",
   "metadata": {},
   "source": [
    "<br>\n",
    "\n",
    "## 5. Fine-tuning the model\n",
    "---\n",
    "Now you can start fine-tuning the model with a few epochs. The code below is based on the [GluonNLP tutorial](https://gluon-nlp.mxnet.io/examples/sentence_embedding/bert.html) and the [BERT Fine-tuning](https://mccormickml.com/2019/07/22/BERT-fine-tuning/). <br>\n",
    "On a single GPU basis, 1 epoch training takes about 9 minutes on `p3.2xlarge` instance, and 1 epoch training takes about 25 minutes on `g4dn.xlarge` instance. Using multi-GPU greatly reduces the training time, and it takes about 4 minutes 30 seconds to train 1 epoch using `p3.8xlarge` instance."
   ]
  },
  {
   "cell_type": "code",
   "execution_count": 20,
   "metadata": {},
   "outputs": [],
   "source": [
    "import time\n",
    "import datetime\n",
    "# import tqdm\n",
    "# from tqdm.notebook import tqdm\n",
    "\n",
    "def format_time(elapsed):\n",
    "    '''\n",
    "    Takes a time in seconds and returns a string hh:mm:ss\n",
    "    '''\n",
    "    # Round to the nearest second.\n",
    "    elapsed_rounded = int(round((elapsed)))\n",
    "    \n",
    "    # Format as hh:mm:ss\n",
    "    return str(datetime.timedelta(seconds=elapsed_rounded))\n",
    "\n",
    "def evaluate_accuracy(model, data_iter, ctx):\n",
    "    acc = mx.metric.Accuracy()\n",
    "    total_loss = 0\n",
    "    \n",
    "    for batch_id, (token_ids, segment_ids, valid_length, label) in enumerate(data_iter):\n",
    "        \n",
    "        token_ids = token_ids.as_in_context(ctx)\n",
    "        valid_length = valid_length.as_in_context(ctx)\n",
    "        segment_ids = segment_ids.as_in_context(ctx)\n",
    "        label = label.as_in_context(ctx)\n",
    "        \n",
    "        out = model(token_ids, segment_ids, valid_length.astype('float32'))\n",
    "        ls = loss_function(out, label).mean()\n",
    "        total_loss += ls.asscalar()\n",
    "        \n",
    "        acc.update(preds=out, labels=label)\n",
    "        \n",
    "    avg_acc = acc.get()[1]\n",
    "    avg_loss = total_loss / batch_id\n",
    "    \n",
    "    print('Validation loss={:.4f}, acc={:.3f}'.format(avg_loss, avg_acc))\n",
    "    total_loss = 0\n",
    "\n",
    "    return avg_acc, avg_loss  "
   ]
  },
  {
   "cell_type": "code",
   "execution_count": 21,
   "metadata": {},
   "outputs": [
    {
     "name": "stdout",
     "output_type": "stream",
     "text": [
      "Saving model to ./model_save/\n",
      "[Epoch 0 Batch 50/1178] loss=0.6627, lr=0.0000500, acc=0.598\n",
      "[Epoch 0 Batch 100/1178] loss=0.5259, lr=0.0000500, acc=0.671\n",
      "[Epoch 0 Batch 150/1178] loss=0.4553, lr=0.0000500, acc=0.707\n",
      "[Epoch 0 Batch 200/1178] loss=0.3856, lr=0.0000500, acc=0.736\n",
      "[Epoch 0 Batch 250/1178] loss=0.3843, lr=0.0000500, acc=0.753\n",
      "[Epoch 0 Batch 300/1178] loss=0.3594, lr=0.0000500, acc=0.768\n",
      "[Epoch 0 Batch 350/1178] loss=0.3438, lr=0.0000500, acc=0.780\n",
      "[Epoch 0 Batch 400/1178] loss=0.3330, lr=0.0000500, acc=0.790\n",
      "[Epoch 0 Batch 450/1178] loss=0.3391, lr=0.0000500, acc=0.797\n",
      "[Epoch 0 Batch 500/1178] loss=0.3248, lr=0.0000500, acc=0.803\n",
      "[Epoch 0 Batch 550/1178] loss=0.3091, lr=0.0000500, acc=0.808\n",
      "[Epoch 0 Batch 600/1178] loss=0.3261, lr=0.0000500, acc=0.813\n",
      "[Epoch 0 Batch 650/1178] loss=0.2992, lr=0.0000500, acc=0.817\n",
      "[Epoch 0 Batch 700/1178] loss=0.2996, lr=0.0000500, acc=0.821\n",
      "[Epoch 0 Batch 750/1178] loss=0.2946, lr=0.0000500, acc=0.824\n",
      "[Epoch 0 Batch 800/1178] loss=0.3104, lr=0.0000500, acc=0.827\n",
      "[Epoch 0 Batch 850/1178] loss=0.3075, lr=0.0000500, acc=0.830\n",
      "[Epoch 0 Batch 900/1178] loss=0.3030, lr=0.0000500, acc=0.832\n",
      "[Epoch 0 Batch 950/1178] loss=0.2960, lr=0.0000500, acc=0.834\n",
      "[Epoch 0 Batch 1000/1178] loss=0.2835, lr=0.0000500, acc=0.837\n",
      "[Epoch 0 Batch 1050/1178] loss=0.2967, lr=0.0000500, acc=0.839\n",
      "[Epoch 0 Batch 1100/1178] loss=0.3039, lr=0.0000500, acc=0.840\n",
      "[Epoch 0 Batch 1150/1178] loss=0.2824, lr=0.0000500, acc=0.842\n",
      "Validation loss=0.3085, acc=0.875\n",
      "[Epoch 1 Batch 50/1178] loss=0.2619, lr=0.0000500, acc=0.893\n",
      "[Epoch 1 Batch 100/1178] loss=0.2348, lr=0.0000500, acc=0.898\n",
      "[Epoch 1 Batch 150/1178] loss=0.2455, lr=0.0000500, acc=0.899\n",
      "[Epoch 1 Batch 200/1178] loss=0.2563, lr=0.0000500, acc=0.898\n",
      "[Epoch 1 Batch 250/1178] loss=0.2438, lr=0.0000500, acc=0.899\n",
      "[Epoch 1 Batch 300/1178] loss=0.2522, lr=0.0000500, acc=0.899\n",
      "[Epoch 1 Batch 350/1178] loss=0.2236, lr=0.0000500, acc=0.900\n",
      "[Epoch 1 Batch 400/1178] loss=0.2331, lr=0.0000500, acc=0.901\n",
      "[Epoch 1 Batch 450/1178] loss=0.2526, lr=0.0000500, acc=0.900\n",
      "[Epoch 1 Batch 500/1178] loss=0.2443, lr=0.0000500, acc=0.900\n",
      "[Epoch 1 Batch 550/1178] loss=0.2484, lr=0.0000500, acc=0.900\n",
      "[Epoch 1 Batch 600/1178] loss=0.2529, lr=0.0000500, acc=0.900\n",
      "[Epoch 1 Batch 650/1178] loss=0.2351, lr=0.0000500, acc=0.900\n",
      "[Epoch 1 Batch 700/1178] loss=0.2406, lr=0.0000500, acc=0.900\n",
      "[Epoch 1 Batch 750/1178] loss=0.2522, lr=0.0000500, acc=0.900\n",
      "[Epoch 1 Batch 800/1178] loss=0.2479, lr=0.0000500, acc=0.900\n",
      "[Epoch 1 Batch 850/1178] loss=0.2568, lr=0.0000500, acc=0.900\n",
      "[Epoch 1 Batch 900/1178] loss=0.2450, lr=0.0000500, acc=0.900\n",
      "[Epoch 1 Batch 950/1178] loss=0.2437, lr=0.0000500, acc=0.900\n",
      "[Epoch 1 Batch 1000/1178] loss=0.2384, lr=0.0000500, acc=0.900\n",
      "[Epoch 1 Batch 1050/1178] loss=0.2327, lr=0.0000500, acc=0.900\n",
      "[Epoch 1 Batch 1100/1178] loss=0.2397, lr=0.0000500, acc=0.900\n",
      "[Epoch 1 Batch 1150/1178] loss=0.2407, lr=0.0000500, acc=0.900\n",
      "Validation loss=0.2622, acc=0.895\n",
      "[Epoch 2 Batch 50/1178] loss=0.1833, lr=0.0000500, acc=0.928\n",
      "[Epoch 2 Batch 100/1178] loss=0.1861, lr=0.0000500, acc=0.928\n",
      "[Epoch 2 Batch 150/1178] loss=0.1900, lr=0.0000500, acc=0.928\n",
      "[Epoch 2 Batch 200/1178] loss=0.1882, lr=0.0000500, acc=0.928\n",
      "[Epoch 2 Batch 250/1178] loss=0.1825, lr=0.0000500, acc=0.928\n",
      "[Epoch 2 Batch 300/1178] loss=0.1871, lr=0.0000500, acc=0.927\n",
      "[Epoch 2 Batch 350/1178] loss=0.2221, lr=0.0000500, acc=0.925\n",
      "[Epoch 2 Batch 400/1178] loss=0.1880, lr=0.0000500, acc=0.925\n",
      "[Epoch 2 Batch 450/1178] loss=0.1985, lr=0.0000500, acc=0.925\n",
      "[Epoch 2 Batch 500/1178] loss=0.1876, lr=0.0000500, acc=0.925\n",
      "[Epoch 2 Batch 550/1178] loss=0.1805, lr=0.0000500, acc=0.925\n",
      "[Epoch 2 Batch 600/1178] loss=0.1916, lr=0.0000500, acc=0.925\n",
      "[Epoch 2 Batch 650/1178] loss=0.1900, lr=0.0000500, acc=0.925\n",
      "[Epoch 2 Batch 700/1178] loss=0.1818, lr=0.0000500, acc=0.925\n",
      "[Epoch 2 Batch 750/1178] loss=0.1932, lr=0.0000500, acc=0.925\n",
      "[Epoch 2 Batch 800/1178] loss=0.2151, lr=0.0000500, acc=0.924\n",
      "[Epoch 2 Batch 850/1178] loss=0.1766, lr=0.0000500, acc=0.925\n",
      "[Epoch 2 Batch 900/1178] loss=0.2065, lr=0.0000500, acc=0.924\n",
      "[Epoch 2 Batch 950/1178] loss=0.1966, lr=0.0000500, acc=0.924\n",
      "[Epoch 2 Batch 1000/1178] loss=0.1972, lr=0.0000500, acc=0.924\n",
      "[Epoch 2 Batch 1050/1178] loss=0.1875, lr=0.0000500, acc=0.924\n",
      "[Epoch 2 Batch 1100/1178] loss=0.2057, lr=0.0000500, acc=0.924\n",
      "[Epoch 2 Batch 1150/1178] loss=0.2135, lr=0.0000500, acc=0.924\n",
      "Validation loss=0.2666, acc=0.895\n",
      "[Epoch 3 Batch 50/1178] loss=0.1356, lr=0.0000500, acc=0.949\n",
      "[Epoch 3 Batch 100/1178] loss=0.1382, lr=0.0000500, acc=0.949\n",
      "[Epoch 3 Batch 150/1178] loss=0.1392, lr=0.0000500, acc=0.947\n",
      "[Epoch 3 Batch 200/1178] loss=0.1394, lr=0.0000500, acc=0.947\n",
      "[Epoch 3 Batch 250/1178] loss=0.1359, lr=0.0000500, acc=0.947\n",
      "[Epoch 3 Batch 300/1178] loss=0.1508, lr=0.0000500, acc=0.947\n",
      "[Epoch 3 Batch 350/1178] loss=0.1384, lr=0.0000500, acc=0.947\n",
      "[Epoch 3 Batch 400/1178] loss=0.1452, lr=0.0000500, acc=0.947\n",
      "[Epoch 3 Batch 450/1178] loss=0.1353, lr=0.0000500, acc=0.947\n",
      "[Epoch 3 Batch 500/1178] loss=0.1439, lr=0.0000500, acc=0.946\n",
      "[Epoch 3 Batch 550/1178] loss=0.1522, lr=0.0000500, acc=0.946\n",
      "[Epoch 3 Batch 600/1178] loss=0.1466, lr=0.0000500, acc=0.946\n",
      "[Epoch 3 Batch 650/1178] loss=0.1435, lr=0.0000500, acc=0.946\n",
      "[Epoch 3 Batch 700/1178] loss=0.1521, lr=0.0000500, acc=0.945\n",
      "[Epoch 3 Batch 750/1178] loss=0.1753, lr=0.0000500, acc=0.945\n",
      "[Epoch 3 Batch 800/1178] loss=0.1468, lr=0.0000500, acc=0.944\n",
      "[Epoch 3 Batch 850/1178] loss=0.1469, lr=0.0000500, acc=0.944\n",
      "[Epoch 3 Batch 900/1178] loss=0.1573, lr=0.0000500, acc=0.944\n",
      "[Epoch 3 Batch 950/1178] loss=0.1417, lr=0.0000500, acc=0.944\n",
      "[Epoch 3 Batch 1000/1178] loss=0.1533, lr=0.0000500, acc=0.944\n",
      "[Epoch 3 Batch 1050/1178] loss=0.1547, lr=0.0000500, acc=0.944\n",
      "[Epoch 3 Batch 1100/1178] loss=0.1473, lr=0.0000500, acc=0.944\n",
      "[Epoch 3 Batch 1150/1178] loss=0.1571, lr=0.0000500, acc=0.944\n",
      "Validation loss=0.2929, acc=0.893\n",
      "CPU times: user 38min 32s, sys: 11min 26s, total: 49min 59s\n",
      "Wall time: 26min 48s\n"
     ]
    }
   ],
   "source": [
    "%%time\n",
    "import os\n",
    "output_dir = './model_save/'\n",
    "\n",
    "# Create output directory if needed\n",
    "if not os.path.exists(output_dir):\n",
    "    os.makedirs(output_dir)\n",
    "print(\"Saving model to %s\" % output_dir)\n",
    "\n",
    "training_stats = []\n",
    "step_num = 0\n",
    "\n",
    "# Measure the total training time for the whole run.\n",
    "total_t0 = time.time()\n",
    "\n",
    "for epoch_id in range(num_epochs):\n",
    "\n",
    "    # === Training phase ===\n",
    "    \n",
    "    # Measure how long the training epoch takes.\n",
    "    t0 = time.time()    \n",
    "    \n",
    "    metric.reset()\n",
    "    step_loss = 0\n",
    "    total_loss = 0\n",
    "    \n",
    "    for batch_id, (token_ids, segment_ids, valid_length, label) in enumerate(train_dataloader):\n",
    "        \n",
    "        # Load the data to the GPUs\n",
    "        token_ids_ = gluon.utils.split_and_load(token_ids, ctx, even_split=False)\n",
    "        valid_length_ = gluon.utils.split_and_load(valid_length, ctx, even_split=False)\n",
    "        segment_ids_ = gluon.utils.split_and_load(segment_ids, ctx, even_split=False)\n",
    "        label_ = gluon.utils.split_and_load(label, ctx, even_split=False)\n",
    "\n",
    "        losses = []\n",
    "        with autograd.record():\n",
    "\n",
    "            for t, v, s, l in zip(token_ids_, valid_length_, segment_ids_, label_):\n",
    "                # Forward computation\n",
    "                out = bert_classifier(t, s, v.astype('float32'))\n",
    "                ls = loss_function(out, l)\n",
    "                losses.append(ls)\n",
    "                metric.update([l], [out])\n",
    "\n",
    "        # Perform a backward pass to calculate the gradients        \n",
    "        for ls in losses:\n",
    "            ls.backward()  \n",
    "        \n",
    "        trainer.step(batch_size)\n",
    "        \n",
    "        # Sum losses over all devices\n",
    "        sum_loss = (sum([l.sum().asscalar() for l in losses]))/batch_size\n",
    "        step_loss += sum_loss\n",
    "        total_loss += sum_loss\n",
    "        #metric.update([label], [out])\n",
    "\n",
    "        # Printing vital information\n",
    "        if (batch_id + 1) % (log_interval) == 0:\n",
    "            print('[Epoch {} Batch {}/{}] loss={:.4f}, lr={:.7f}, acc={:.3f}'\n",
    "                         .format(epoch_id, batch_id + 1, len(train_dataloader),\n",
    "                                 step_loss / log_interval,\n",
    "                                 trainer.learning_rate, metric.get()[1]))\n",
    "            step_loss = 0\n",
    "            \n",
    "        train_avg_acc = metric.get()[1]\n",
    "        train_avg_loss = total_loss\n",
    "        total_loss = 0\n",
    "\n",
    "    \n",
    "    # Measure how long this epoch took.\n",
    "    train_time = format_time(time.time() - t0)\n",
    "    \n",
    "    # === Validation phase ===\n",
    "    \n",
    "    # Measure how long the validation epoch takes.    \n",
    "    t0 = time.time()    \n",
    "    valid_avg_acc, valid_avg_loss = evaluate_accuracy(bert_classifier, test_dataloader, ctx[0])\n",
    "\n",
    "    # Measure how long this epoch took.\n",
    "    valid_time = format_time(time.time() - t0)\n",
    "    # Measure how long the validation run took.\n",
    "    validation_time = format_time(time.time() - t0)\n",
    "    \n",
    "     # Record all statistics from this epoch.\n",
    "    training_stats.append(\n",
    "        {\n",
    "            'epoch': epoch_id + 1,\n",
    "            'train_acc': train_avg_acc,\n",
    "            'train_loss': train_avg_loss,\n",
    "            'train_time': train_time,\n",
    "            'valid_acc': valid_avg_acc,\n",
    "            'valid_loss': valid_avg_loss,\n",
    "            'valid_time': valid_time\n",
    "        }\n",
    "    )    \n",
    "    \n",
    "    # === Save Model Parameters ===\n",
    "    bert_classifier.save_parameters('{}/net_epoch{}.params'.format(output_dir, epoch_id))    "
   ]
  },
  {
   "cell_type": "markdown",
   "metadata": {},
   "source": [
    "<br>\n",
    "\n",
    "## 6. Evaluation\n",
    "---\n",
    "\n",
    "Let's take a brief look at the training results so far.\n",
    "Having a lot of epochs is not a good thing. As you can see in the graph and table, training metrics continue to decrease, but validation metrics decrease after some point.\n",
    "\n",
    "The validation accuracy is pretty good with 89%, which is slightly less than the 90.1% accuracy on the official site, but has not been hyperparameter tuned."
   ]
  },
  {
   "cell_type": "code",
   "execution_count": 22,
   "metadata": {},
   "outputs": [
    {
     "data": {
      "text/html": [
       "<div>\n",
       "<style scoped>\n",
       "    .dataframe tbody tr th:only-of-type {\n",
       "        vertical-align: middle;\n",
       "    }\n",
       "\n",
       "    .dataframe tbody tr th {\n",
       "        vertical-align: top;\n",
       "    }\n",
       "\n",
       "    .dataframe thead th {\n",
       "        text-align: right;\n",
       "    }\n",
       "</style>\n",
       "<table border=\"1\" class=\"dataframe\">\n",
       "  <thead>\n",
       "    <tr style=\"text-align: right;\">\n",
       "      <th></th>\n",
       "      <th>train_acc</th>\n",
       "      <th>train_loss</th>\n",
       "      <th>train_time</th>\n",
       "      <th>valid_acc</th>\n",
       "      <th>valid_loss</th>\n",
       "      <th>valid_time</th>\n",
       "    </tr>\n",
       "    <tr>\n",
       "      <th>epoch</th>\n",
       "      <th></th>\n",
       "      <th></th>\n",
       "      <th></th>\n",
       "      <th></th>\n",
       "      <th></th>\n",
       "      <th></th>\n",
       "    </tr>\n",
       "  </thead>\n",
       "  <tbody>\n",
       "    <tr>\n",
       "      <th>1</th>\n",
       "      <td>0.8424</td>\n",
       "      <td>0.3417</td>\n",
       "      <td>0:05:43</td>\n",
       "      <td>0.8754</td>\n",
       "      <td>0.3085</td>\n",
       "      <td>0:00:57</td>\n",
       "    </tr>\n",
       "    <tr>\n",
       "      <th>2</th>\n",
       "      <td>0.9002</td>\n",
       "      <td>0.2382</td>\n",
       "      <td>0:05:42</td>\n",
       "      <td>0.8949</td>\n",
       "      <td>0.2622</td>\n",
       "      <td>0:00:57</td>\n",
       "    </tr>\n",
       "    <tr>\n",
       "      <th>3</th>\n",
       "      <td>0.9237</td>\n",
       "      <td>0.2234</td>\n",
       "      <td>0:05:43</td>\n",
       "      <td>0.8948</td>\n",
       "      <td>0.2666</td>\n",
       "      <td>0:00:57</td>\n",
       "    </tr>\n",
       "    <tr>\n",
       "      <th>4</th>\n",
       "      <td>0.9436</td>\n",
       "      <td>0.1168</td>\n",
       "      <td>0:05:43</td>\n",
       "      <td>0.8932</td>\n",
       "      <td>0.2929</td>\n",
       "      <td>0:00:57</td>\n",
       "    </tr>\n",
       "  </tbody>\n",
       "</table>\n",
       "</div>"
      ],
      "text/plain": [
       "       train_acc  train_loss train_time  valid_acc  valid_loss valid_time\n",
       "epoch                                                                    \n",
       "1         0.8424      0.3417    0:05:43     0.8754      0.3085    0:00:57\n",
       "2         0.9002      0.2382    0:05:42     0.8949      0.2622    0:00:57\n",
       "3         0.9237      0.2234    0:05:43     0.8948      0.2666    0:00:57\n",
       "4         0.9436      0.1168    0:05:43     0.8932      0.2929    0:00:57"
      ]
     },
     "execution_count": 22,
     "metadata": {},
     "output_type": "execute_result"
    }
   ],
   "source": [
    "import pandas as pd\n",
    "pd.set_option('precision', 4)\n",
    "\n",
    "df_stats = pd.DataFrame(data=training_stats)\n",
    "df_stats = df_stats.set_index('epoch')\n",
    "\n",
    "df_stats"
   ]
  },
  {
   "cell_type": "code",
   "execution_count": 23,
   "metadata": {},
   "outputs": [],
   "source": [
    "def plot_training_stats(df_stats, num_epochs=5):\n",
    "    import matplotlib.pyplot as plt\n",
    "    import seaborn as sns\n",
    "\n",
    "    # Use plot styling from seaborn.\n",
    "    sns.set(style='darkgrid')\n",
    "\n",
    "    # Increase the plot size and font size.\n",
    "    sns.set(font_scale=1.2)\n",
    "    plt.rcParams[\"figure.figsize\"] = (15,6)\n",
    "\n",
    "    xticks = list(range(1, num_epochs+1))\n",
    "\n",
    "    plt.subplot(221)\n",
    "\n",
    "    ax1 = plt.subplot(1, 2, 1)\n",
    "    ax1.plot(df_stats['train_loss'], 'b-o', label=\"Training\")\n",
    "    ax1.plot(df_stats['valid_loss'], 'g-o', label=\"Validation\")\n",
    "    ax1.set_xticks(xticks)     \n",
    "    ax1.set_title(\"Loss\")\n",
    "    ax1.set_xlabel(\"Epoch\")\n",
    "    ax1.set_ylabel(\"Loss\")\n",
    "    ax1.legend()\n",
    "\n",
    "    ax2 = plt.subplot(1, 2, 2)\n",
    "    ax2.plot(df_stats['train_acc'], 'b-o', label=\"Training\")\n",
    "    ax2.plot(df_stats['valid_acc'], 'g-o', label=\"Validation\")\n",
    "    ax2.set_xticks(xticks) \n",
    "    ax2.set_title(\"Accuracy\")\n",
    "    ax2.set_xlabel(\"Epoch\")\n",
    "    ax2.set_ylabel(\"Loss\")\n",
    "    ax2.legend()\n",
    "\n",
    "    plt.show()    "
   ]
  },
  {
   "cell_type": "code",
   "execution_count": 24,
   "metadata": {},
   "outputs": [
    {
     "data": {
      "image/png": "[encoded data removed]",
      "text/plain": [
       "<Figure size 1080x432 with 2 Axes>"
      ]
     },
     "metadata": {},
     "output_type": "display_data"
    }
   ],
   "source": [
    "% matplotlib inline\n",
    "plot_training_stats(df_stats, num_epochs)"
   ]
  },
  {
   "cell_type": "markdown",
   "metadata": {},
   "source": [
    "Delete all but the best performing models."
   ]
  },
  {
   "cell_type": "code",
   "execution_count": 25,
   "metadata": {},
   "outputs": [],
   "source": [
    "idx = df_stats['valid_acc'].argmax() - 1\n",
    "save_filename = 'net_epoch{}.params'.format(idx)\n",
    "\n",
    "for filename in os.listdir(output_dir):\n",
    "    if filename.endswith('params'):\n",
    "        if filename == save_filename:\n",
    "            os.rename(os.path.join(output_dir, filename), os.path.join(output_dir, 'net_nsmc.params'))\n",
    "        else:\n",
    "            os.remove(os.path.join(output_dir, filename))"
   ]
  },
  {
   "cell_type": "markdown",
   "metadata": {},
   "source": [
    "If you want to deploy the fine-tuned model to the SageMaker Endpoint, please copy the `.spiece` file to the model parameter folder and compress them with `model.tar.gz`.\n",
    "\n",
    "```bash\n",
    "# Example shell scripts\n",
    "$ cp ~/kobert/kobert_news_wiki_ko_cased-1087f8699e.spiece ./model_save/.\n",
    "$ cd model_save\n",
    "$ tar cvfz model.tar.gz ./*.params ./*.spiece\n",
    "$ aws s3 cp ./model.tar.gz s3://<your-bucket-name>/kobert-model/model.tar.gz\n",
    "```"
   ]
  },
  {
   "cell_type": "code",
   "execution_count": 26,
   "metadata": {},
   "outputs": [],
   "source": [
    "if '/root/' in wk_folder:\n",
    "    os.system(\"cp /root/kobert/kobert_news_wiki_ko_cased-1087f8699e.spiece ./model_save/.\")\n",
    "else:\n",
    "    root_path = '~/'\n",
    "    os.system(\"cp ~/kobert/kobert_news_wiki_ko_cased-1087f8699e.spiece ./model_save/.\")"
   ]
  },
  {
   "cell_type": "code",
   "execution_count": null,
   "metadata": {},
   "outputs": [
    {
     "name": "stdout",
     "output_type": "stream",
     "text": [
      "./model_save/net_nsmc.params\r\n"
     ]
    }
   ],
   "source": [
    "!tar cvfz ./model_save/model.tar.gz ./model_save/*.params ./model_save/*.spiece"
   ]
  },
  {
   "cell_type": "markdown",
   "metadata": {},
   "source": [
    "## References\n",
    "\n",
    "[1] Devlin, Jacob, et al. \"Bert: Pre-training of deep bidirectional transformers for language understanding.\"\n",
    "arXiv preprint arXiv:1810.04805 (2018).\n",
    "\n",
    "[2] Dolan, William B., and Chris Brockett. \"Automatically constructing a corpus of sentential paraphrases.\" Proceedings of the Third International Workshop on Paraphrasing (IWP2005). 2005.\n",
    "\n",
    "[3] Peters, Matthew E., et al. \"Deep contextualized word representations.\" arXiv preprint arXiv:1802.05365 (2018).\n",
    "\n",
    "[4] GluonNLP Tutorial. Fine-tuning Sentence Pair Classification with BERT, <https://gluon-nlp.mxnet.io/examples/sentence_embedding/bert.html>.\n",
    "\n",
    "[5] Chris McCormick. BERT Fine-Tuning Tutorial with PyTorch, <https://mccormickml.com/2019/07/22/BERT-fine-tuning>.\n",
    "\n",
    "[6] Jay Alammar. A Visual Guide to Using BERT for the First Time, <http://jalammar.github.io/a-visual-guide-to-using-bert-for-the-first-time>"
   ]
  }
 ],
 "metadata": {
  "kernelspec": {
   "display_name": "conda_mxnet_p36",
   "language": "python",
   "name": "conda_mxnet_p36"
  },
  "language_info": {
   "codemirror_mode": {
    "name": "ipython",
    "version": 3
   },
   "file_extension": ".py",
   "mimetype": "text/x-python",
   "name": "python",
   "nbconvert_exporter": "python",
   "pygments_lexer": "ipython3",
   "version": "3.6.5"
  }
 },
 "nbformat": 4,
 "nbformat_minor": 4
}
